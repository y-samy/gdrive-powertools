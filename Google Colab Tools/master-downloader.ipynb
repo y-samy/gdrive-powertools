{
  "cells": [
    {
      "cell_type": "markdown",
      "metadata": {
        "id": "ZHnOecdwjFtd"
      },
      "source": [
        "Spare Terminal Window"
      ]
    },
    {
      "cell_type": "code",
      "execution_count": null,
      "metadata": {
        "id": "sg_xxqrOS81E"
      },
      "outputs": [],
      "source": [
        "!"
      ]
    },
    {
      "cell_type": "markdown",
      "metadata": {
        "id": "pSEmSaXji_15"
      },
      "source": [
        "Installing Runtime Dependencies (Run every time the virtual machine is started)"
      ]
    },
    {
      "cell_type": "code",
      "execution_count": null,
      "metadata": {
        "id": "zuI8MOYlOSB0"
      },
      "outputs": [],
      "source": [
        "!apt install aria2\n",
        "!pip install sharepy ffmpeg yt-dlp\n",
        "!python -m pip install --upgrade pip setuptools wheel && python -m pip install lbry-libtorrent wget torf && apt install python3-libtorrent\n",
        "!pip install git+https://github.com/simon-weber/gpsoauth@master\n",
        "!pip3 install --upgrade urllib3"
      ]
    },
    {
      "cell_type": "markdown",
      "metadata": {
        "id": "dpJeTd0onpet"
      },
      "source": [
        "For downloading anything to drive from a DOWNLOAD LINK only"
      ]
    },
    {
      "cell_type": "code",
      "execution_count": null,
      "metadata": {
        "id": "mod7NYl1nosA"
      },
      "outputs": [],
      "source": [
        "link=r\"{}\".format(input(\"Enter link: \"))\n",
        "outputFolder=r\"/content/drive/MyDrive/{}\".format(input(\"Choose output folder on your drive: /\"))\n",
        "!wget \"{link}\""
      ]
    },
    {
      "cell_type": "markdown",
      "metadata": {
        "id": "pTSD-6yslEnw"
      },
      "source": [
        "For downloading a youtube video, a youtube playlist, or a single google drive video (works with unlisted YT videos and view-only GDrive videos) (will work with a lot of sites, see https://github.com/yt-dlp/yt-dlp )"
      ]
    },
    {
      "cell_type": "code",
      "execution_count": null,
      "metadata": {
        "id": "iGGbOoT5lE8z"
      },
      "outputs": [],
      "source": [
        "import subprocess\n",
        "link=r\"{}\".format(input(\"Enter link: \"))\n",
        "outputFolder=r\"/content/drive/MyDrive/{}\".format(input(\"Choose output folder on your drive: /\"))\n",
        "command=r'yt-dlp \"{}\" --format-sort res:1080,ext:mp4:m4a -P \"/content/temp/\" -o \"%(title)s.%(ext)s\" --cookies cookies.txt'.format(link)\n",
        "sout = subprocess.Popen(command, shell=True, stdout=subprocess.PIPE).stdout\n",
        "print(sout.read().decode())\n",
        "!mv \"/content/temp/*\" \"{outputFolder}\""
      ]
    },
    {
      "cell_type": "markdown",
      "metadata": {
        "id": "xUYCBrRPjjW_"
      },
      "source": [
        "For downloading files from teams (sharepoint/onedrive)\\\n",
        "Downloads them to /content/sites/TEAMNAME/FOLDERNAME/FILENAME.ext in your VM"
      ]
    },
    {
      "cell_type": "code",
      "execution_count": null,
      "metadata": {
        "id": "ufWkBsIR6VzU"
      },
      "outputs": [],
      "source": [
        "import sharepy\n",
        "import os\n",
        "\n",
        "s = sharepy.connect(\"alexuuni.sharepoint.com\")\n",
        "siteName = input(\"Enter Site (Team) Name: \")\n",
        "site = \"https://alexuuni.sharepoint.com/sites/{}\".format(siteName)\n",
        "library = input(\"Enter Library Name: \")\n",
        "\n",
        "folder=input(\"Enter folder name (may be path) (Optional): \")\n",
        "\n",
        "files = s.get(\"{}/_api/web/lists/GetByTitle('{}')/items?$select=FileLeafRef,FileRef\"\n",
        "              .format(site, library)).json()[\"d\"][\"results\"]\n",
        "\n",
        "def getFile(file):\n",
        "    source = \"https://\" + s.site + file[\"FileRef\"]\n",
        "    dest = \".\" + file[\"FileRef\"]\n",
        "    folder = s.get(\"{}/_api/web/GetFolderByServerRelativeUrl('{}')\" .format(site, file[\"FileRef\"].replace(\"'\",\"''\"))).status_code == 200\n",
        "\n",
        "    if not os.path.exists(dest):\n",
        "        if folder:\n",
        "            os.makedirs(dest)\n",
        "        else:\n",
        "            s.getfile(source, filename=dest)\n",
        "\n",
        "for file in files:\n",
        "  if (folder == \"\"):\n",
        "    getFile(file[\"FileRef\"])\n",
        "  elif r\"{}\".format(file[\"FileRef\"]).startswith(r'/sites/{}/{}/{}'.format(siteName,library,folder)):\n",
        "    getFile(file)\n"
      ]
    },
    {
      "cell_type": "markdown",
      "metadata": {
        "id": "ZUfxQ7Lf4w4C"
      },
      "source": [
        "For downloading videos from a google drive folder\\\n",
        "Downloads directly into google drive"
      ]
    },
    {
      "cell_type": "code",
      "execution_count": null,
      "metadata": {
        "id": "RpsavQL4d-N2"
      },
      "outputs": [],
      "source": [
        "from yt_dlp import YoutubeDL as ydl\n",
        "from pydrive2.auth import GoogleAuth\n",
        "from pydrive2.drive import GoogleDrive\n",
        "from google.colab import auth\n",
        "from oauth2client.client import GoogleCredentials\n",
        "auth.authenticate_user()\n",
        "gauth = GoogleAuth()\n",
        "gauth.credentials = GoogleCredentials.get_application_default()\n",
        "drive = GoogleDrive(gauth)\n",
        "\n",
        "rootID = input(\"Enter Folder ID: \")\n",
        "downloadPath = input(\"Enter Path to Output Folder in Drive: /\")\n",
        "\n",
        "def listFiles(folderID):\n",
        "    return drive.ListFile({'q': \"'{}' in parents\".format(folderID)}).GetList()\n",
        "\n",
        "acceptedFileList = []\n",
        "\n",
        "def filterFiles(folderID):\n",
        "  file_list = listFiles(folderID)\n",
        "  for file in file_list:\n",
        "    if 'video' in file[\"mimeType\"]:\n",
        "      file = {\"name\": file[\"title\"].rsplit('.', 1)[0], \"url\": \"https://drive.google.com/file/d/{}/view?usp=drive_link\".format(file[\"id\"])}\n",
        "      acceptedFileList.append(file)\n",
        "    elif file[\"mimeType\"] == 'application/vnd.google-apps.folder':\n",
        "      filterFiles(file[\"id\"])\n",
        "\n",
        "\n",
        "def downloadVideos():\n",
        "  filterFiles(rootID)\n",
        "  for f in acceptedFileList:\n",
        "    print(f)\n",
        "    !yt-dlp -P \"/content/drive/MyDrive/{downloadPath}\" -o '{f[\"name\"]}.%(ext)s' '{f[\"url\"]}' --external-downloader aria2c --external-downloader-args \"-c -j 8 -s 8 -x 8 -k 1M\" --compat-options no-external-downloader-progress\n",
        "\n",
        "downloadVideos()\n"
      ]
    },
    {
      "cell_type": "markdown",
      "metadata": {
        "id": "Ir268lxFrlTt"
      },
      "source": [
        "To download from a torrent or magnet link"
      ]
    },
    {
      "cell_type": "code",
      "execution_count": null,
      "metadata": {
        "colab": {
          "background_save": true
        },
        "id": "xo8b3BY6k2HC"
      },
      "outputs": [],
      "source": [
        "import zipfile\n",
        "import os\n",
        "import libtorrent as lt\n",
        "import time\n",
        "import datetime\n",
        "import shutil\n",
        "\n",
        "params = {\n",
        "    'save_path': '/content/Torrent/',\n",
        "    'storage_mode': lt.storage_mode_t(2),\n",
        "}\n",
        "\n",
        "ses = lt.session()\n",
        "ses.listen_on(6881, 6891)\n",
        "link = input(\"Input Torrent file link or Magnet link and Press Enter: \")\n",
        "\n",
        "if link.endswith('.torrent'):\n",
        "    import wget\n",
        "    from torf import Torrent\n",
        "\n",
        "    if os.path.exists('torrent.torrent'):\n",
        "        os.remove('torrent.torrent')\n",
        "\n",
        "    wget.download(link, 'torrent.torrent')\n",
        "    t = Torrent.read('torrent.torrent')\n",
        "    link = str(t.magnet(name=True, size=False, trackers=False, tracker=False))\n",
        "\n",
        "\n",
        "print(link)\n",
        "handle = lt.add_magnet_uri(ses, link, params)\n",
        "# change the 0 to a 1 to download sequentially\n",
        "handle.set_sequential_download(0)\n",
        "ses.start_dht()\n",
        "begin = time.time()\n",
        "\n",
        "print(datetime.datetime.now())\n",
        "print('Downloading Metadata...')\n",
        "\n",
        "while not handle.has_metadata():\n",
        "    time.sleep(1)\n",
        "\n",
        "print('Got Metadata, Starting Torrent Download...')\n",
        "print(\"Starting\", handle.name())\n",
        "\n",
        "while handle.status().state != lt.torrent_status.seeding:\n",
        "    s = handle.status()\n",
        "    state_str = ['queued', 'checking', 'downloading metadata',\n",
        "                 'downloading', 'finished', 'seeding', 'allocating']\n",
        "    print('%.2f%% complete (down: %.1f kb/s up: %.1f kB/s peers: %d) %s ' %\n",
        "          (s.progress * 100, s.download_rate / 1000, s.upload_rate / 1000,\n",
        "           s.num_peers, state_str[s.state]))\n",
        "    time.sleep(5)\n",
        "\n",
        "end = time.time()\n",
        "print(handle.name(), \"COMPLETE\")\n",
        "print(\"Elapsed Time: \", int((end - begin) // 60), \"min :\", int((end - begin) % 60), \"sec\")\n",
        "print(datetime.datetime.now())\n",
        "\n",
        "\n",
        "\n",
        "if (input(\"Do you want to zip before uploading to drive? (Y/n): \").lower() == \"y\"):\n",
        "  !zip -r /content/ /content/Torrent/*"
      ]
    },
    {
      "cell_type": "markdown",
      "metadata": {
        "id": "J17Hz84nVihG"
      },
      "source": [
        "Download Read-only Google Drive Files"
      ]
    },
    {
      "cell_type": "code",
      "execution_count": null,
      "metadata": {
        "id": "fS8LiYAGViAm"
      },
      "outputs": [],
      "source": [
        "import os\n",
        "from time import time\n",
        "import gpsoauth\n",
        "import requests\n",
        "import json\n",
        "from google.colab import userdata\n",
        "\n",
        "currentTime = int(time())\n",
        "driveToken = ''\n",
        "validUntil = ''\n",
        "\n",
        "def setToken():\n",
        "  aasT = userdata.get('aasToken')\n",
        "  androidID = userdata.get('androidID')\n",
        "  email = userdata.get('email')\n",
        "  auth = gpsoauth.perform_oauth(\n",
        "    email,\n",
        "    aasT,\n",
        "    androidID,\n",
        "    \"oauth2:https://www.googleapis.com/auth/drive\",\n",
        "    app = \"com.google.android.apps.docs\",\n",
        "    client_sig = \"58e1c4133f7441ec3d2c270270a14802da47ba0e\"\n",
        "  )\n",
        "  driveToken = os.environ[\"driveToken\"] = auth[\"Auth\"]\n",
        "  validUntil = os.environ[\"validUntil\"] = auth[\"Expiry\"]\n",
        "\n",
        "try:\n",
        "  driveToken = os.environ[\"driveToken\"]\n",
        "  validUntil = os.environ[\"validUntil\"]\n",
        "  if int(validUntil) < currentTime:\n",
        "    getFile()\n",
        "  else:\n",
        "    setToken()\n",
        "except:\n",
        "  setToken()\n",
        "\n",
        "fileID = input(\"Enter file ID:\")\n",
        "\n",
        "def getFile(ID, token):\n",
        "  uri = \"https://www.googleapis.com/download/drive/v2internal/files/{}?alt=media\".format(ID)\n",
        "  headers = {\"Authorization\": \"Bearer {}\".format(token)}\n",
        "  response = requests.get(uri, headers=headers)\n",
        "  return response\n",
        "\n",
        "def getFileMetadata(ID, token):\n",
        "  uri = \"https://www.googleapis.com/drive/v2internal/files/{}?supportsAllDrives=true&includePermissionsForView=published&allProperties=false&fields=publishingInfo%28published%29%2cmimeType%2cexportLinks%2cdownloadUrl%2ckind%2cfolderColorRgb%2csharedWithMeDate%2clastViewedByMeDate%2cpermissionsSummary%28visibility%28type%29%29%2ccontentRestrictions%2freadOnly%2cabuseIsAppealable%2cthumbnailVersion%2cheadRevisionId%2cmodifiedDate%2crecency%2cdriveId%2clabels%28starred%2cviewed%2crestricted%2ctrashed%29%2cparent%2fid%2ccreatedDate%2csubscribed%2calternateLink%2cid%2cversion%2cquotaBytesUsed%2cetag%2cdetectors%2cancestorHasAugmentedPermissions%2cfolderFeatures%2cspaces%2ccustomerId%2cabuseNoticeReason%2cworkspaceIds%2ctitle%2cshared%2chasAugmentedPermissions%2cparents%2fid%2cowners%28emailAddressFromAccount%2cid%2corganizationDisplayName%29%2ctrashedDate%2cresourceKey%2corganizationDisplayName%2copenWithLinks%2cdefaultOpenWithLink%2cfileSize%2chasLegacyBlobComments%2cexplicitlyTrashed%2creadersCanSeeComments%2clastModifyingUser%28id%2cemailAddressFromAccount%29%2ccapabilities%28canMoveItemWithinDrive%2ccanTrashChildren%2ccanRemoveChildren%2ccanReadCategoryMetadata%2ccanManageMembers%2ccanTrash%2ccanShare%2ccanAddMyDriveParent%2ccanListChildren%2ccanPrint%2ccanCopy%2ccanDeleteChildren%2ccanDelete%2ccanRename%2ccanModifyContent%2ccanRequestApproval%2ccanBlockOwner%2ccanCopyNonAuthoritative%2ccanReadDrive%2ccanMoveChildrenOutOfDrive%2ccanMoveItemOutOfDrive%2ccanDownload%2ccanShareChildFolders%2ccanChangePermissionExpiration%2ccanAddChildren%2ccanComment%2ccanAcceptOwnership%2ccanEdit%2ccanShareChildFiles%2ccanUntrash%2ccanManageVisitors%2ccanDownloadNonAuthoritative%2ccanChangeSecurityUpdateEnabled%2ccanReportSpamOrAbuse%2ccanMoveChildrenWithinDrive%29%2cactionItems%2cblockingDetectors%2cownedByMe%2cshortcutDetails%28targetResourceKey%2ctargetId%2ctargetMimeType%2ctargetLookupStatus%2ctargetFile%29%2cspamMetadata%28markedAsSpamDate%2cinSpamView%29%2cprimarySyncParentId%2cprimaryDomainName%2csharingUser%28emailAddressFromAccount%2cid%29%2cclientEncryptionDetails%28decryptionMetadata%29%2crecencyReason%2cmd5Checksum%2ccontainsUnsubscribedChildren%2capprovalMetadata%28approvalVersion%2capprovalSummaries%29%2chasThumbnail%2cmodifiedByMeDate%2cpassivelySubscribed&reportPermissionErrors=true&updateViewedDate=true&reason=1351&featureLabel=android-sync-native\".format(ID)\n",
        "  headers = {\"Authorization\": \"Bearer {}\".format(token)}\n",
        "  response = requests.get(uri, headers=headers)\n",
        "  return response.content\n",
        "\n",
        "fileName = json.loads(getFileMetadata(fileID, driveToken))[\"title\"]\n",
        "print(fileName)\n",
        "with open(fileName, \"wb\") as file:\n",
        "    file.write(getFile(fileID, driveToken).content)\n",
        "\n",
        "!mv \"{fileName}\" /content/drive/MyDrive/Blackbox/temp/"
      ]
    },
    {
      "cell_type": "code",
      "source": [
        "from google.colab import drive\n",
        "drive.mount('/content/drive')"
      ],
      "metadata": {
        "id": "U_jbXDEaWkgP"
      },
      "execution_count": null,
      "outputs": []
    }
  ],
  "metadata": {
    "colab": {
      "provenance": []
    },
    "kernelspec": {
      "display_name": "Python 3",
      "name": "python3"
    },
    "language_info": {
      "name": "python"
    }
  },
  "nbformat": 4,
  "nbformat_minor": 0
}
